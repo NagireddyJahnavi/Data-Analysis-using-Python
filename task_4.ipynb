{
 "cells": [
  {
   "cell_type": "markdown",
   "id": "9e9749e1-9021-4374-a20c-f8626cbbc3aa",
   "metadata": {},
   "source": [
    "## Task 4 – Modelling & Assessment"
   ]
  },
  {
   "cell_type": "code",
   "execution_count": 1,
   "id": "951bf393-f4c6-4f40-abec-2751a0b14ec0",
   "metadata": {},
   "outputs": [],
   "source": [
    "# importing pandas library\n",
    "import pandas as pd\n",
    "import numpy as np\n",
    "# importing matplotlib and seaborn libraries\n",
    "import matplotlib.pyplot as plt\n",
    "import seaborn as sns\n",
    "# Evaluation metrics\n",
    "from sklearn.metrics import confusion_matrix, accuracy_score, precision_score, recall_score, f1_score"
   ]
  },
  {
   "cell_type": "markdown",
   "id": "d6e78e73-c562-483c-a5df-f525cba487bc",
   "metadata": {},
   "source": [
    "### choosing dataset 'b' which is having crop damage as target"
   ]
  },
  {
   "cell_type": "code",
   "execution_count": 2,
   "id": "632bde52-0290-42b0-b50d-25cb00510831",
   "metadata": {},
   "outputs": [],
   "source": [
    "# Loading clean data file to pandas dataframes b_X_train\n",
    "b_X_train=pd.read_csv(\"b_X_train.csv\")\n",
    "b_y_train=pd.read_csv(\"b_y_train.csv\")\n",
    "b_X_test=pd.read_csv(\"b_X_test.csv\")\n",
    "b_y_test=pd.read_csv(\"b_y_test.csv\")"
   ]
  },
  {
   "cell_type": "code",
   "execution_count": 3,
   "id": "198819b4-8830-46ad-85d4-bcdeb1c21d6c",
   "metadata": {},
   "outputs": [],
   "source": [
    "# Reshape the target variable y\n",
    "b_y_train = np.ravel(b_y_train)\n",
    "b_y_test = np.ravel(b_y_test)"
   ]
  },
  {
   "cell_type": "markdown",
   "id": "8f435d37-7806-4866-a54d-07c5e93ce3d6",
   "metadata": {},
   "source": [
    "## KNN Model"
   ]
  },
  {
   "cell_type": "markdown",
   "id": "ddf4d595-0637-41a5-96ff-3121109c8b6c",
   "metadata": {},
   "source": [
    "### K=1"
   ]
  },
  {
   "cell_type": "code",
   "execution_count": 4,
   "id": "fb8dba14-76fa-491c-a6a4-82f23e1544e0",
   "metadata": {},
   "outputs": [],
   "source": [
    "from sklearn.neighbors import KNeighborsClassifier\n",
    "knn = KNeighborsClassifier(n_neighbors = 1)\n",
    "knn_trained = knn.fit(b_X_train,b_y_train)"
   ]
  },
  {
   "cell_type": "code",
   "execution_count": 5,
   "id": "9c880910-8e53-4bd5-838f-b5cdbbe769ce",
   "metadata": {},
   "outputs": [],
   "source": [
    "y_pred_knn = knn_trained.predict(b_X_test)"
   ]
  },
  {
   "cell_type": "code",
   "execution_count": 6,
   "id": "70a09427-425b-4d94-afb2-cae8bc66086d",
   "metadata": {},
   "outputs": [
    {
     "data": {
      "text/plain": [
       "array([0, 1, 1, 0, 1, 0, 0, 1, 0, 0, 0, 0, 0, 1, 0, 1, 0, 1, 0, 0, 0, 1,\n",
       "       1, 0], dtype=int64)"
      ]
     },
     "execution_count": 6,
     "metadata": {},
     "output_type": "execute_result"
    }
   ],
   "source": [
    "y_pred_knn"
   ]
  },
  {
   "cell_type": "code",
   "execution_count": 6,
   "id": "bea8ed8e-b6f9-496c-9efd-a1cf09db4701",
   "metadata": {},
   "outputs": [
    {
     "name": "stdout",
     "output_type": "stream",
     "text": [
      "Accuracy: 75.00%\n"
     ]
    }
   ],
   "source": [
    "accuracy_train = accuracy_score(b_y_test, y_pred_knn)\n",
    "print(\"Accuracy: {:.2%}\".format(accuracy_train))"
   ]
  },
  {
   "cell_type": "markdown",
   "id": "fd465dbb-ba01-4619-a6d4-7a50c51915c8",
   "metadata": {},
   "source": [
    "### K=2"
   ]
  },
  {
   "cell_type": "code",
   "execution_count": 7,
   "id": "6ef52d85-3fee-4395-a797-8b294854c09c",
   "metadata": {},
   "outputs": [],
   "source": [
    "from sklearn.neighbors import KNeighborsClassifier\n",
    "knn = KNeighborsClassifier(n_neighbors = 2)\n",
    "knn_trained = knn.fit(b_X_train,b_y_train)"
   ]
  },
  {
   "cell_type": "code",
   "execution_count": 8,
   "id": "354349e7-28b8-48a6-95f9-968e1ea4ab1a",
   "metadata": {},
   "outputs": [],
   "source": [
    "y_pred_knn = knn_trained.predict(b_X_test)"
   ]
  },
  {
   "cell_type": "code",
   "execution_count": 9,
   "id": "420c6e12-5ecf-4e82-bab7-e97dae5d4a98",
   "metadata": {},
   "outputs": [
    {
     "name": "stdout",
     "output_type": "stream",
     "text": [
      "Accuracy: 79.17%\n"
     ]
    }
   ],
   "source": [
    "accuracy_train = accuracy_score(b_y_test, y_pred_knn)\n",
    "print(\"Accuracy: {:.2%}\".format(accuracy_train))"
   ]
  },
  {
   "cell_type": "markdown",
   "id": "f7777ea7-6131-4208-a9cf-23605a6a3c24",
   "metadata": {},
   "source": [
    "### K=5"
   ]
  },
  {
   "cell_type": "code",
   "execution_count": 10,
   "id": "49e71e19-db58-4198-a8c4-acd1216789b2",
   "metadata": {},
   "outputs": [],
   "source": [
    "from sklearn.neighbors import KNeighborsClassifier\n",
    "knn = KNeighborsClassifier(n_neighbors = 5)\n",
    "knn_trained = knn.fit(b_X_train,b_y_train)"
   ]
  },
  {
   "cell_type": "code",
   "execution_count": 11,
   "id": "e4425c68-9044-465b-930e-b9ffc6093d65",
   "metadata": {},
   "outputs": [],
   "source": [
    "y_pred_knn = knn_trained.predict(b_X_test)"
   ]
  },
  {
   "cell_type": "code",
   "execution_count": 12,
   "id": "03478163-a379-409e-a8d9-322f8a53f594",
   "metadata": {},
   "outputs": [
    {
     "name": "stdout",
     "output_type": "stream",
     "text": [
      "Accuracy: 83.33%\n"
     ]
    }
   ],
   "source": [
    "accuracy_train = accuracy_score(b_y_test, y_pred_knn)\n",
    "print(\"Accuracy: {:.2%}\".format(accuracy_train))"
   ]
  },
  {
   "cell_type": "markdown",
   "id": "cd32e9c8-5b76-4ddf-836a-795ddc7eba43",
   "metadata": {},
   "source": [
    "### ANN"
   ]
  },
  {
   "cell_type": "markdown",
   "id": "126b0028-31bf-4802-8af0-44dd6299d467",
   "metadata": {},
   "source": [
    "### hidden_layer_sizes=6"
   ]
  },
  {
   "cell_type": "code",
   "execution_count": 13,
   "id": "8aae31ec-fb86-454f-92d1-67bb25b2cf4f",
   "metadata": {},
   "outputs": [],
   "source": [
    "from sklearn.neural_network import MLPClassifier\n",
    "\n",
    "# Configuration 1: 3 hidden neurons\n",
    "ann = MLPClassifier(hidden_layer_sizes=(6,), max_iter=50)\n",
    "ann.fit(b_X_train, b_y_train)\n",
    "y_pred_ann = ann.predict(b_X_test)"
   ]
  },
  {
   "cell_type": "code",
   "execution_count": 14,
   "id": "39d66a2a-f124-45a0-996c-1fe378ede70c",
   "metadata": {},
   "outputs": [
    {
     "name": "stdout",
     "output_type": "stream",
     "text": [
      "Accuracy: 79.17%\n"
     ]
    }
   ],
   "source": [
    "# Evaluate the model\n",
    "accuracy = accuracy_score(b_y_test, y_pred_ann)\n",
    "print(\"Accuracy: {:.2%}\".format(accuracy))"
   ]
  },
  {
   "cell_type": "markdown",
   "id": "6d2b0095-53d9-47d1-8d72-858dfed5c955",
   "metadata": {},
   "source": [
    "### hidden_layer_sizes=9"
   ]
  },
  {
   "cell_type": "code",
   "execution_count": 15,
   "id": "f8bf47d1-a209-4b64-982e-e9c2c1ee22bb",
   "metadata": {},
   "outputs": [],
   "source": [
    "from sklearn.neural_network import MLPClassifier\n",
    "\n",
    "# Configuration 1: 3 hidden neurons\n",
    "ann= MLPClassifier(hidden_layer_sizes=(9,), max_iter=50)\n",
    "ann.fit(b_X_train, b_y_train)\n",
    "y_pred_ann = ann.predict(b_X_test)"
   ]
  },
  {
   "cell_type": "code",
   "execution_count": 16,
   "id": "f0370eba-96c4-4e37-85c6-719d42721996",
   "metadata": {},
   "outputs": [
    {
     "name": "stdout",
     "output_type": "stream",
     "text": [
      "Accuracy: 79.17%\n"
     ]
    }
   ],
   "source": [
    "# Evaluate the model\n",
    "accuracy = accuracy_score(b_y_test, y_pred_ann)\n",
    "print(\"Accuracy: {:.2%}\".format(accuracy))"
   ]
  },
  {
   "cell_type": "code",
   "execution_count": 17,
   "id": "cabbab26-03d7-42e6-98ab-cf570b9b0aa5",
   "metadata": {},
   "outputs": [
    {
     "name": "stdout",
     "output_type": "stream",
     "text": [
      "Testset evaluation result (KNN) :\n",
      "\n",
      "Confusion Matrix: \n",
      " [[16  3]\n",
      " [ 1  4]]\n",
      "Accuracy:  0.8333333333333334\n",
      "Precision:  0.8333333333333334\n",
      "Recall:  0.8333333333333334\n",
      "F1 Score:  0.8333333333333334\n",
      "==========================================================================================\n",
      "Testset evaluation result(Ann) :\n",
      "\n",
      "Confusion Matrix: \n",
      " [[19  0]\n",
      " [ 5  0]]\n",
      "Accuracy:  0.7916666666666666\n",
      "Precision:  0.7916666666666666\n",
      "Recall:  0.7916666666666666\n",
      "F1 Score:  0.7916666666666666\n",
      "==========================================================================================\n"
     ]
    },
    {
     "name": "stderr",
     "output_type": "stream",
     "text": [
      "C:\\ProgramData\\anaconda3\\Lib\\site-packages\\seaborn\\_oldcore.py:1498: FutureWarning: is_categorical_dtype is deprecated and will be removed in a future version. Use isinstance(dtype, CategoricalDtype) instead\n",
      "  if pd.api.types.is_categorical_dtype(vector):\n",
      "C:\\ProgramData\\anaconda3\\Lib\\site-packages\\seaborn\\_oldcore.py:1498: FutureWarning: is_categorical_dtype is deprecated and will be removed in a future version. Use isinstance(dtype, CategoricalDtype) instead\n",
      "  if pd.api.types.is_categorical_dtype(vector):\n",
      "C:\\ProgramData\\anaconda3\\Lib\\site-packages\\seaborn\\_oldcore.py:1765: FutureWarning: unique with argument that is not not a Series, Index, ExtensionArray, or np.ndarray is deprecated and will raise in a future version.\n",
      "  order = pd.unique(vector)\n",
      "C:\\ProgramData\\anaconda3\\Lib\\site-packages\\seaborn\\_oldcore.py:1498: FutureWarning: is_categorical_dtype is deprecated and will be removed in a future version. Use isinstance(dtype, CategoricalDtype) instead\n",
      "  if pd.api.types.is_categorical_dtype(vector):\n",
      "C:\\ProgramData\\anaconda3\\Lib\\site-packages\\seaborn\\_oldcore.py:1498: FutureWarning: is_categorical_dtype is deprecated and will be removed in a future version. Use isinstance(dtype, CategoricalDtype) instead\n",
      "  if pd.api.types.is_categorical_dtype(vector):\n",
      "C:\\ProgramData\\anaconda3\\Lib\\site-packages\\seaborn\\_oldcore.py:1498: FutureWarning: is_categorical_dtype is deprecated and will be removed in a future version. Use isinstance(dtype, CategoricalDtype) instead\n",
      "  if pd.api.types.is_categorical_dtype(vector):\n",
      "C:\\ProgramData\\anaconda3\\Lib\\site-packages\\seaborn\\_oldcore.py:1765: FutureWarning: unique with argument that is not not a Series, Index, ExtensionArray, or np.ndarray is deprecated and will raise in a future version.\n",
      "  order = pd.unique(vector)\n",
      "C:\\ProgramData\\anaconda3\\Lib\\site-packages\\seaborn\\_oldcore.py:1498: FutureWarning: is_categorical_dtype is deprecated and will be removed in a future version. Use isinstance(dtype, CategoricalDtype) instead\n",
      "  if pd.api.types.is_categorical_dtype(vector):\n"
     ]
    },
    {
     "data": {
      "image/png": "[encoded data removed]",
      "text/plain": [
       "<Figure size 640x480 with 6 Axes>"
      ]
     },
     "metadata": {},
     "output_type": "display_data"
    },
    {
     "name": "stdout",
     "output_type": "stream",
     "text": [
      "==========================================================================================\n"
     ]
    }
   ],
   "source": [
    "  ## Evaluate the model\n",
    "print('Testset evaluation result (KNN) :\\n')\n",
    "cm_test_knn = confusion_matrix(b_y_test, y_pred_knn)\n",
    "print(\"Confusion Matrix: \\n\", cm_test_knn)\n",
    "accuracy_train = accuracy_score(b_y_test, y_pred_knn)\n",
    "print(\"Accuracy: \", accuracy_train)\n",
    "precision_test = precision_score(b_y_test, y_pred_knn,average='micro')\n",
    "print(\"Precision: \", precision_test)\n",
    "recall_train = recall_score(b_y_test, y_pred_knn,average='micro')\n",
    "print(\"Recall: \", recall_train)\n",
    "f1_train = f1_score(b_y_test, y_pred_knn,average='micro')\n",
    "print(\"F1 Score: \", f1_train)\n",
    "print('=='*45)\n",
    "\n",
    "\n",
    "print('Testset evaluation result(Ann) :\\n')\n",
    "cm_test_ann = confusion_matrix(b_y_test, y_pred_ann)\n",
    "print(\"Confusion Matrix: \\n\", cm_test_ann)\n",
    "accuracy_test = accuracy_score(b_y_test, y_pred_ann)\n",
    "print(\"Accuracy: \", accuracy_test)\n",
    "precision_test = precision_score(b_y_test, y_pred_ann,average='micro')\n",
    "print(\"Precision: \", precision_test)\n",
    "recall_test = recall_score(b_y_test, y_pred_ann,average='micro')\n",
    "print(\"Recall: \", recall_test)\n",
    "f1_test = f1_score(b_y_test, y_pred_ann,average='micro')\n",
    "print(\"F1 Score: \", f1_test)\n",
    "print('=='*45)\n",
    "\n",
    "\n",
    "## Visualizes evaluation metrics\n",
    "fig,axes = plt.subplots(nrows=2, ncols=2)\n",
    "ax1 = sns.heatmap(cm_test_knn, annot=True, ax=axes[0,0], fmt='d')\n",
    "ax1.set_title('Confusion Matrix for KNN')\n",
    "ax1.set_ylabel('True label')\n",
    "ax1.set_xlabel('Predicted label')\n",
    "ax2 = sns.heatmap(cm_test_ann, annot=True, ax=axes[0,1], fmt='d')\n",
    "ax2.set_title('Confusion Matrix for ANN')\n",
    "ax2.set_ylabel('True label')\n",
    "ax2.set_xlabel('Predicted label')\n",
    "ax3 = sns.barplot(x=['Accuracy', 'Precision', 'Recall', 'F1'], y=[accuracy_train, precision_test, recall_train, f1_train], ax=axes[1,0])\n",
    "ax3.set_title('Evaluation Metrics for knn')\n",
    "ax3.tick_params(axis='x', rotation=90)\n",
    "ax4 = sns.barplot(x=['Accuracy', 'Precision', 'Recall', 'F1'], y=[accuracy_test, precision_test, recall_test, f1_test], ax=axes[1,1])\n",
    "ax4.set_title('Evaluation Metrics for decesion tree classifier ')\n",
    "ax4.tick_params(axis='x', rotation=90)\n",
    "plt.tight_layout()\n",
    "plt.show()\n",
    "print('=='*45)\n"
   ]
  },
  {
   "cell_type": "markdown",
   "id": "5e604e85-63b0-4d51-8d9e-7526bd5541a8",
   "metadata": {},
   "source": [
    "### As per above evaluation metrics, KNN is best model with 83% accuracy"
   ]
  },
  {
   "cell_type": "code",
   "execution_count": 18,
   "id": "eef07ad1-bdae-41c5-9796-83d725760cd9",
   "metadata": {},
   "outputs": [
    {
     "name": "stderr",
     "output_type": "stream",
     "text": [
      "[NbConvertApp] Converting notebook task_4.ipynb to html\n",
      "[NbConvertApp] Writing 657065 bytes to task_4.html\n"
     ]
    }
   ],
   "source": [
    "!jupyter nbconvert --to html task_4.ipynb"
   ]
  },
  {
   "cell_type": "code",
   "execution_count": null,
   "id": "d626211c-9a79-47bb-b4ba-f1fc83740f15",
   "metadata": {},
   "outputs": [],
   "source": []
  }
 ],
 "metadata": {
  "kernelspec": {
   "display_name": "Python 3 (ipykernel)",
   "language": "python",
   "name": "python3"
  },
  "language_info": {
   "codemirror_mode": {
    "name": "ipython",
    "version": 3
   },
   "file_extension": ".py",
   "mimetype": "text/x-python",
   "name": "python",
   "nbconvert_exporter": "python",
   "pygments_lexer": "ipython3",
   "version": "3.11.4"
  }
 },
 "nbformat": 4,
 "nbformat_minor": 5
}
