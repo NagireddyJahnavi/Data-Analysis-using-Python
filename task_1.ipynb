{
 "cells": [
  {
   "cell_type": "markdown",
   "id": "9cf69969-ee1c-445d-9bac-e5dfac839f55",
   "metadata": {},
   "source": [
    "\n",
    "## Final Project\n",
    "\n",
    "## Task 1 - Data Loading & Preparation"
   ]
  },
  {
   "cell_type": "code",
   "execution_count": 3,
   "id": "7af9ea15-baef-46b8-abd3-459e06fc1b2e",
   "metadata": {},
   "outputs": [],
   "source": [
    "# we are importing pandas\n",
    "import pandas as pd"
   ]
  },
  {
   "cell_type": "code",
   "execution_count": 4,
   "id": "b029ceae-c88e-4213-a6be-e0a1992bfe7a",
   "metadata": {},
   "outputs": [],
   "source": [
    "# Loading csv files data to pandas dataframes \n",
    "data1=pd.read_csv(\"data_1_env.csv\", sep=\",\")\n",
    "data2=pd.read_csv(\"data_2_env.csv\", sep=\",\")\n",
    "data3=pd.read_csv(\"data_3_crop.csv\", sep=\",\")"
   ]
  },
  {
   "cell_type": "code",
   "execution_count": 5,
   "id": "c3c6f29f-6b5a-40cf-be3a-412a150a9a8f",
   "metadata": {},
   "outputs": [
    {
     "data": {
      "text/html": [
       "<div>\n",
       "<style scoped>\n",
       "    .dataframe tbody tr th:only-of-type {\n",
       "        vertical-align: middle;\n",
       "    }\n",
       "\n",
       "    .dataframe tbody tr th {\n",
       "        vertical-align: top;\n",
       "    }\n",
       "\n",
       "    .dataframe thead th {\n",
       "        text-align: right;\n",
       "    }\n",
       "</style>\n",
       "<table border=\"1\" class=\"dataframe\">\n",
       "  <thead>\n",
       "    <tr style=\"text-align: right;\">\n",
       "      <th></th>\n",
       "      <th>Year</th>\n",
       "      <th>Location</th>\n",
       "      <th>Avg Min Temp *F</th>\n",
       "      <th>Yr Rain inches</th>\n",
       "      <th>Heat Wave</th>\n",
       "      <th>Dry Spell</th>\n",
       "      <th>Cold Wave</th>\n",
       "      <th>Wet Spell</th>\n",
       "    </tr>\n",
       "  </thead>\n",
       "  <tbody>\n",
       "    <tr>\n",
       "      <th>0</th>\n",
       "      <td>1980</td>\n",
       "      <td>Andersonport</td>\n",
       "      <td>68.18</td>\n",
       "      <td>27.1280</td>\n",
       "      <td>N</td>\n",
       "      <td>N</td>\n",
       "      <td>Y</td>\n",
       "      <td>N</td>\n",
       "    </tr>\n",
       "    <tr>\n",
       "      <th>1</th>\n",
       "      <td>1980</td>\n",
       "      <td>Williamhaven</td>\n",
       "      <td>73.40</td>\n",
       "      <td>24.2866</td>\n",
       "      <td>N</td>\n",
       "      <td>N</td>\n",
       "      <td>Y</td>\n",
       "      <td>N</td>\n",
       "    </tr>\n",
       "    <tr>\n",
       "      <th>2</th>\n",
       "      <td>1980</td>\n",
       "      <td>Josephfurt</td>\n",
       "      <td>70.52</td>\n",
       "      <td>45.8524</td>\n",
       "      <td>N</td>\n",
       "      <td>N</td>\n",
       "      <td>N</td>\n",
       "      <td>N</td>\n",
       "    </tr>\n",
       "    <tr>\n",
       "      <th>3</th>\n",
       "      <td>1981</td>\n",
       "      <td>Andersonport</td>\n",
       "      <td>68.00</td>\n",
       "      <td>32.0374</td>\n",
       "      <td>N</td>\n",
       "      <td>n</td>\n",
       "      <td>Y</td>\n",
       "      <td>N</td>\n",
       "    </tr>\n",
       "    <tr>\n",
       "      <th>4</th>\n",
       "      <td>1981</td>\n",
       "      <td>Williamhaven</td>\n",
       "      <td>74.12</td>\n",
       "      <td>22.2898</td>\n",
       "      <td>N</td>\n",
       "      <td>N</td>\n",
       "      <td>N</td>\n",
       "      <td>N</td>\n",
       "    </tr>\n",
       "  </tbody>\n",
       "</table>\n",
       "</div>"
      ],
      "text/plain": [
       "   Year      Location  Avg Min Temp *F  Yr Rain inches Heat Wave Dry Spell  \\\n",
       "0  1980  Andersonport            68.18         27.1280         N         N   \n",
       "1  1980  Williamhaven            73.40         24.2866         N         N   \n",
       "2  1980    Josephfurt            70.52         45.8524         N         N   \n",
       "3  1981  Andersonport            68.00         32.0374         N         n   \n",
       "4  1981  Williamhaven            74.12         22.2898         N         N   \n",
       "\n",
       "  Cold Wave Wet Spell  \n",
       "0         Y         N  \n",
       "1         Y         N  \n",
       "2         N         N  \n",
       "3         Y         N  \n",
       "4         N         N  "
      ]
     },
     "execution_count": 5,
     "metadata": {},
     "output_type": "execute_result"
    }
   ],
   "source": [
    "data1.head()"
   ]
  },
  {
   "cell_type": "code",
   "execution_count": 6,
   "id": "f9b2469a-b997-491c-b67a-21febe6509a1",
   "metadata": {},
   "outputs": [
    {
     "data": {
      "text/html": [
       "<div>\n",
       "<style scoped>\n",
       "    .dataframe tbody tr th:only-of-type {\n",
       "        vertical-align: middle;\n",
       "    }\n",
       "\n",
       "    .dataframe tbody tr th {\n",
       "        vertical-align: top;\n",
       "    }\n",
       "\n",
       "    .dataframe thead th {\n",
       "        text-align: right;\n",
       "    }\n",
       "</style>\n",
       "<table border=\"1\" class=\"dataframe\">\n",
       "  <thead>\n",
       "    <tr style=\"text-align: right;\">\n",
       "      <th></th>\n",
       "      <th>Year</th>\n",
       "      <th>Location</th>\n",
       "      <th>Avg Min Temp *C</th>\n",
       "      <th>Yr Rain mm</th>\n",
       "      <th>Heat Wave</th>\n",
       "      <th>Dry Spell</th>\n",
       "      <th>Cold Wave</th>\n",
       "      <th>Wet Spell</th>\n",
       "    </tr>\n",
       "  </thead>\n",
       "  <tbody>\n",
       "    <tr>\n",
       "      <th>0</th>\n",
       "      <td>1993</td>\n",
       "      <td>Williamhaven</td>\n",
       "      <td>23.6</td>\n",
       "      <td>715.00</td>\n",
       "      <td>N</td>\n",
       "      <td>0</td>\n",
       "      <td>N</td>\n",
       "      <td>N</td>\n",
       "    </tr>\n",
       "    <tr>\n",
       "      <th>1</th>\n",
       "      <td>1993</td>\n",
       "      <td>Josephfurt</td>\n",
       "      <td>21.6</td>\n",
       "      <td>1513.69</td>\n",
       "      <td>N</td>\n",
       "      <td>N</td>\n",
       "      <td>N</td>\n",
       "      <td>N</td>\n",
       "    </tr>\n",
       "    <tr>\n",
       "      <th>2</th>\n",
       "      <td>1993</td>\n",
       "      <td>Andersonport</td>\n",
       "      <td>21.0</td>\n",
       "      <td>1104.47</td>\n",
       "      <td>N</td>\n",
       "      <td>N</td>\n",
       "      <td>N</td>\n",
       "      <td>N</td>\n",
       "    </tr>\n",
       "    <tr>\n",
       "      <th>3</th>\n",
       "      <td>1994</td>\n",
       "      <td>Williamhaven</td>\n",
       "      <td>23.8</td>\n",
       "      <td>787.49</td>\n",
       "      <td>N</td>\n",
       "      <td>N</td>\n",
       "      <td>N</td>\n",
       "      <td>N</td>\n",
       "    </tr>\n",
       "    <tr>\n",
       "      <th>4</th>\n",
       "      <td>1994</td>\n",
       "      <td>Josephfurt</td>\n",
       "      <td>21.7</td>\n",
       "      <td>1553.87</td>\n",
       "      <td>N</td>\n",
       "      <td>N</td>\n",
       "      <td>N</td>\n",
       "      <td>N</td>\n",
       "    </tr>\n",
       "  </tbody>\n",
       "</table>\n",
       "</div>"
      ],
      "text/plain": [
       "   Year      Location  Avg Min Temp *C  Yr Rain mm Heat Wave Dry Spell  \\\n",
       "0  1993  Williamhaven             23.6      715.00         N         0   \n",
       "1  1993    Josephfurt             21.6     1513.69         N         N   \n",
       "2  1993  Andersonport             21.0     1104.47         N         N   \n",
       "3  1994  Williamhaven             23.8      787.49         N         N   \n",
       "4  1994    Josephfurt             21.7     1553.87         N         N   \n",
       "\n",
       "  Cold Wave Wet Spell  \n",
       "0         N         N  \n",
       "1         N         N  \n",
       "2         N         N  \n",
       "3         N         N  \n",
       "4         N         N  "
      ]
     },
     "execution_count": 6,
     "metadata": {},
     "output_type": "execute_result"
    }
   ],
   "source": [
    "data2.head()"
   ]
  },
  {
   "cell_type": "code",
   "execution_count": 7,
   "id": "6a8c0ce3-c4bb-4e0e-b82a-0327374f2912",
   "metadata": {},
   "outputs": [
    {
     "data": {
      "text/html": [
       "<div>\n",
       "<style scoped>\n",
       "    .dataframe tbody tr th:only-of-type {\n",
       "        vertical-align: middle;\n",
       "    }\n",
       "\n",
       "    .dataframe tbody tr th {\n",
       "        vertical-align: top;\n",
       "    }\n",
       "\n",
       "    .dataframe thead th {\n",
       "        text-align: right;\n",
       "    }\n",
       "</style>\n",
       "<table border=\"1\" class=\"dataframe\">\n",
       "  <thead>\n",
       "    <tr style=\"text-align: right;\">\n",
       "      <th></th>\n",
       "      <th>Year</th>\n",
       "      <th>Location</th>\n",
       "      <th>Irrigation</th>\n",
       "      <th>Crop Type</th>\n",
       "      <th>Crop Damage</th>\n",
       "      <th>Yield</th>\n",
       "      <th>Observer</th>\n",
       "    </tr>\n",
       "  </thead>\n",
       "  <tbody>\n",
       "    <tr>\n",
       "      <th>0</th>\n",
       "      <td>1980.0</td>\n",
       "      <td>Andersonport</td>\n",
       "      <td>Y</td>\n",
       "      <td>Maize</td>\n",
       "      <td>1.0</td>\n",
       "      <td>1311.32</td>\n",
       "      <td>Marissa Peterson</td>\n",
       "    </tr>\n",
       "    <tr>\n",
       "      <th>1</th>\n",
       "      <td>1980.0</td>\n",
       "      <td>Williamhaven</td>\n",
       "      <td>Y</td>\n",
       "      <td>Wheat</td>\n",
       "      <td>1.0</td>\n",
       "      <td>1025.88</td>\n",
       "      <td>Frank Carpenter</td>\n",
       "    </tr>\n",
       "    <tr>\n",
       "      <th>2</th>\n",
       "      <td>1980.0</td>\n",
       "      <td>Josephfurt</td>\n",
       "      <td>N</td>\n",
       "      <td>Maize</td>\n",
       "      <td>0.0</td>\n",
       "      <td>1194.53</td>\n",
       "      <td>Kerry Martinez</td>\n",
       "    </tr>\n",
       "    <tr>\n",
       "      <th>3</th>\n",
       "      <td>1981.0</td>\n",
       "      <td>Andersonport</td>\n",
       "      <td>Y</td>\n",
       "      <td>Oats</td>\n",
       "      <td>1.0</td>\n",
       "      <td>1608.54</td>\n",
       "      <td>Marissa Peterson</td>\n",
       "    </tr>\n",
       "    <tr>\n",
       "      <th>4</th>\n",
       "      <td>1981.0</td>\n",
       "      <td>Williamhaven</td>\n",
       "      <td>Y</td>\n",
       "      <td>Wheat</td>\n",
       "      <td>0.0</td>\n",
       "      <td>1035.73</td>\n",
       "      <td>Eduardo Brady</td>\n",
       "    </tr>\n",
       "  </tbody>\n",
       "</table>\n",
       "</div>"
      ],
      "text/plain": [
       "     Year      Location Irrigation Crop Type  Crop Damage    Yield  \\\n",
       "0  1980.0  Andersonport          Y     Maize          1.0  1311.32   \n",
       "1  1980.0  Williamhaven          Y     Wheat          1.0  1025.88   \n",
       "2  1980.0    Josephfurt          N     Maize          0.0  1194.53   \n",
       "3  1981.0  Andersonport          Y      Oats          1.0  1608.54   \n",
       "4  1981.0  Williamhaven          Y     Wheat          0.0  1035.73   \n",
       "\n",
       "           Observer  \n",
       "0  Marissa Peterson  \n",
       "1   Frank Carpenter  \n",
       "2    Kerry Martinez  \n",
       "3  Marissa Peterson  \n",
       "4     Eduardo Brady  "
      ]
     },
     "execution_count": 7,
     "metadata": {},
     "output_type": "execute_result"
    }
   ],
   "source": [
    "data3.head()"
   ]
  },
  {
   "cell_type": "code",
   "execution_count": 8,
   "id": "fad9c3ba-e469-41ed-a3ef-cdaa9fed2d45",
   "metadata": {},
   "outputs": [],
   "source": [
    "# Converting Avg Min Temp *F column to Avg Min Temp *C and dropping Avg Min Temp *F column\n",
    "data1['Avg Min Temp *C'] = data1['Avg Min Temp *F'].apply(lambda x: (x - 32) / 1.8)\n",
    "data1.drop('Avg Min Temp *F', axis=1, inplace=True)"
   ]
  },
  {
   "cell_type": "code",
   "execution_count": 9,
   "id": "5e0788ca-4669-4b9c-90a9-1aa75ba2db32",
   "metadata": {},
   "outputs": [],
   "source": [
    "# Convert Yr Rain inches column to Yr Rain mm and dropping Yr Rain inches columnc\n",
    "data1['Yr Rain mm'] = (data1['Yr Rain inches'] * 25.4).round(2)\n",
    "data1.drop('Yr Rain inches', axis=1, inplace=True)"
   ]
  },
  {
   "cell_type": "code",
   "execution_count": 10,
   "id": "3c1f6abc-b6ff-4d9d-990d-4745fb01d43d",
   "metadata": {},
   "outputs": [],
   "source": [
    "# Defining the desired column order\n",
    "column_order = ['Year', 'Location', 'Avg Min Temp *C', 'Yr Rain mm','Heat Wave', 'Dry Spell', 'Cold Wave', 'Wet Spell']\n",
    "\n",
    "#  DataFrame with the new column order\n",
    "data1 = data1.reindex(columns=column_order)"
   ]
  },
  {
   "cell_type": "code",
   "execution_count": 11,
   "id": "297cb7f4-7292-4c96-ae63-3e081a4ee428",
   "metadata": {},
   "outputs": [
    {
     "name": "stdout",
     "output_type": "stream",
     "text": [
      "<class 'pandas.core.frame.DataFrame'>\n",
      "RangeIndex: 39 entries, 0 to 38\n",
      "Data columns (total 8 columns):\n",
      " #   Column           Non-Null Count  Dtype  \n",
      "---  ------           --------------  -----  \n",
      " 0   Year             39 non-null     int64  \n",
      " 1   Location         39 non-null     object \n",
      " 2   Avg Min Temp *C  39 non-null     float64\n",
      " 3   Yr Rain mm       39 non-null     float64\n",
      " 4   Heat Wave        39 non-null     object \n",
      " 5   Dry Spell        39 non-null     object \n",
      " 6   Cold Wave        39 non-null     object \n",
      " 7   Wet Spell        39 non-null     object \n",
      "dtypes: float64(2), int64(1), object(5)\n",
      "memory usage: 2.6+ KB\n"
     ]
    }
   ],
   "source": [
    "data1.info()"
   ]
  },
  {
   "cell_type": "code",
   "execution_count": 12,
   "id": "3e56c745-fc33-46d3-adac-576caf72fd79",
   "metadata": {},
   "outputs": [
    {
     "name": "stdout",
     "output_type": "stream",
     "text": [
      "<class 'pandas.core.frame.DataFrame'>\n",
      "RangeIndex: 81 entries, 0 to 80\n",
      "Data columns (total 8 columns):\n",
      " #   Column           Non-Null Count  Dtype  \n",
      "---  ------           --------------  -----  \n",
      " 0   Year             81 non-null     int64  \n",
      " 1   Location         81 non-null     object \n",
      " 2   Avg Min Temp *C  81 non-null     float64\n",
      " 3   Yr Rain mm       81 non-null     float64\n",
      " 4   Heat Wave        81 non-null     object \n",
      " 5   Dry Spell        81 non-null     object \n",
      " 6   Cold Wave        81 non-null     object \n",
      " 7   Wet Spell        81 non-null     object \n",
      "dtypes: float64(2), int64(1), object(5)\n",
      "memory usage: 5.2+ KB\n"
     ]
    }
   ],
   "source": [
    "data2.info()"
   ]
  },
  {
   "cell_type": "markdown",
   "id": "0daa00ba-8907-43bb-a7ea-ba6dd61cf3a1",
   "metadata": {},
   "source": [
    "### data1 set is having 39 rows and 8 columns and data2 set is having 81 rows and 8 columns, concatening both sets as data "
   ]
  },
  {
   "cell_type": "code",
   "execution_count": 13,
   "id": "e74cb08d-8c11-4782-8329-f68dd4251a17",
   "metadata": {},
   "outputs": [],
   "source": [
    "# concatenating data1 and data2 \n",
    "data=pd.concat([data1, data2])"
   ]
  },
  {
   "cell_type": "code",
   "execution_count": 14,
   "id": "31e5b8c6-1da3-4842-8af1-f214f01fc137",
   "metadata": {},
   "outputs": [
    {
     "data": {
      "text/html": [
       "<div>\n",
       "<style scoped>\n",
       "    .dataframe tbody tr th:only-of-type {\n",
       "        vertical-align: middle;\n",
       "    }\n",
       "\n",
       "    .dataframe tbody tr th {\n",
       "        vertical-align: top;\n",
       "    }\n",
       "\n",
       "    .dataframe thead th {\n",
       "        text-align: right;\n",
       "    }\n",
       "</style>\n",
       "<table border=\"1\" class=\"dataframe\">\n",
       "  <thead>\n",
       "    <tr style=\"text-align: right;\">\n",
       "      <th></th>\n",
       "      <th>Year</th>\n",
       "      <th>Location</th>\n",
       "      <th>Avg Min Temp *C</th>\n",
       "      <th>Yr Rain mm</th>\n",
       "      <th>Heat Wave</th>\n",
       "      <th>Dry Spell</th>\n",
       "      <th>Cold Wave</th>\n",
       "      <th>Wet Spell</th>\n",
       "    </tr>\n",
       "  </thead>\n",
       "  <tbody>\n",
       "    <tr>\n",
       "      <th>0</th>\n",
       "      <td>1980</td>\n",
       "      <td>Andersonport</td>\n",
       "      <td>20.1</td>\n",
       "      <td>689.05</td>\n",
       "      <td>N</td>\n",
       "      <td>N</td>\n",
       "      <td>Y</td>\n",
       "      <td>N</td>\n",
       "    </tr>\n",
       "    <tr>\n",
       "      <th>1</th>\n",
       "      <td>1980</td>\n",
       "      <td>Williamhaven</td>\n",
       "      <td>23.0</td>\n",
       "      <td>616.88</td>\n",
       "      <td>N</td>\n",
       "      <td>N</td>\n",
       "      <td>Y</td>\n",
       "      <td>N</td>\n",
       "    </tr>\n",
       "    <tr>\n",
       "      <th>2</th>\n",
       "      <td>1980</td>\n",
       "      <td>Josephfurt</td>\n",
       "      <td>21.4</td>\n",
       "      <td>1164.65</td>\n",
       "      <td>N</td>\n",
       "      <td>N</td>\n",
       "      <td>N</td>\n",
       "      <td>N</td>\n",
       "    </tr>\n",
       "    <tr>\n",
       "      <th>3</th>\n",
       "      <td>1981</td>\n",
       "      <td>Andersonport</td>\n",
       "      <td>20.0</td>\n",
       "      <td>813.75</td>\n",
       "      <td>N</td>\n",
       "      <td>n</td>\n",
       "      <td>Y</td>\n",
       "      <td>N</td>\n",
       "    </tr>\n",
       "    <tr>\n",
       "      <th>4</th>\n",
       "      <td>1981</td>\n",
       "      <td>Williamhaven</td>\n",
       "      <td>23.4</td>\n",
       "      <td>566.16</td>\n",
       "      <td>N</td>\n",
       "      <td>N</td>\n",
       "      <td>N</td>\n",
       "      <td>N</td>\n",
       "    </tr>\n",
       "  </tbody>\n",
       "</table>\n",
       "</div>"
      ],
      "text/plain": [
       "   Year      Location  Avg Min Temp *C  Yr Rain mm Heat Wave Dry Spell  \\\n",
       "0  1980  Andersonport             20.1      689.05         N         N   \n",
       "1  1980  Williamhaven             23.0      616.88         N         N   \n",
       "2  1980    Josephfurt             21.4     1164.65         N         N   \n",
       "3  1981  Andersonport             20.0      813.75         N         n   \n",
       "4  1981  Williamhaven             23.4      566.16         N         N   \n",
       "\n",
       "  Cold Wave Wet Spell  \n",
       "0         Y         N  \n",
       "1         Y         N  \n",
       "2         N         N  \n",
       "3         Y         N  \n",
       "4         N         N  "
      ]
     },
     "execution_count": 14,
     "metadata": {},
     "output_type": "execute_result"
    }
   ],
   "source": [
    "data.head()"
   ]
  },
  {
   "cell_type": "code",
   "execution_count": 15,
   "id": "60382392-97e6-4f50-94ee-0ee07f8ade96",
   "metadata": {},
   "outputs": [
    {
     "name": "stdout",
     "output_type": "stream",
     "text": [
      "<class 'pandas.core.frame.DataFrame'>\n",
      "Index: 120 entries, 0 to 80\n",
      "Data columns (total 8 columns):\n",
      " #   Column           Non-Null Count  Dtype  \n",
      "---  ------           --------------  -----  \n",
      " 0   Year             120 non-null    int64  \n",
      " 1   Location         120 non-null    object \n",
      " 2   Avg Min Temp *C  120 non-null    float64\n",
      " 3   Yr Rain mm       120 non-null    float64\n",
      " 4   Heat Wave        120 non-null    object \n",
      " 5   Dry Spell        120 non-null    object \n",
      " 6   Cold Wave        120 non-null    object \n",
      " 7   Wet Spell        120 non-null    object \n",
      "dtypes: float64(2), int64(1), object(5)\n",
      "memory usage: 8.4+ KB\n"
     ]
    }
   ],
   "source": [
    "data.info()"
   ]
  },
  {
   "cell_type": "markdown",
   "id": "f8719e71-c923-4c35-9101-13fe9b7fe596",
   "metadata": {},
   "source": [
    "### The resultant dataset is having 120 rows and 8 columns"
   ]
  },
  {
   "cell_type": "code",
   "execution_count": 16,
   "id": "5e1d4ee6-f603-48e9-b853-e93cd44359cb",
   "metadata": {},
   "outputs": [
    {
     "data": {
      "text/plain": [
       "Location\n",
       "Andersonport    40\n",
       "Williamhaven    40\n",
       "Josephfurt      40\n",
       "Name: count, dtype: int64"
      ]
     },
     "execution_count": 16,
     "metadata": {},
     "output_type": "execute_result"
    }
   ],
   "source": [
    "# verifying resultant dataset data\n",
    "data[\"Location\"].value_counts()"
   ]
  },
  {
   "cell_type": "code",
   "execution_count": 17,
   "id": "7f77bf3b-f660-490d-ae19-d3e2cf49b8ef",
   "metadata": {},
   "outputs": [
    {
     "data": {
      "text/plain": [
       "Heat Wave\n",
       "N      80\n",
       "Y      37\n",
       "0       1\n",
       "Yes     1\n",
       "1       1\n",
       "Name: count, dtype: int64"
      ]
     },
     "execution_count": 17,
     "metadata": {},
     "output_type": "execute_result"
    }
   ],
   "source": [
    "data[\"Heat Wave\"].value_counts()"
   ]
  },
  {
   "cell_type": "code",
   "execution_count": 18,
   "id": "17101734-c08a-40c5-a245-aff0be63e9ce",
   "metadata": {},
   "outputs": [],
   "source": [
    "#converting '0' to 'Y', Yes to 'Y' and 1 to 'Y' using replace function\n",
    "\n",
    "data['Heat Wave'] = data['Heat Wave'].replace('Yes', 'Y') \n",
    "data['Heat Wave'] = data['Heat Wave'].replace('0', 'N')\n",
    "data['Heat Wave'] = data['Heat Wave'].replace('1', 'Y') "
   ]
  },
  {
   "cell_type": "code",
   "execution_count": 19,
   "id": "bc266731-5e03-48ec-b455-1985de971b2e",
   "metadata": {},
   "outputs": [
    {
     "data": {
      "text/plain": [
       "Heat Wave\n",
       "N    81\n",
       "Y    39\n",
       "Name: count, dtype: int64"
      ]
     },
     "execution_count": 19,
     "metadata": {},
     "output_type": "execute_result"
    }
   ],
   "source": [
    "# Heat wave have only 'Y' and 'N' after modifying the data\n",
    "data[\"Heat Wave\"].value_counts()"
   ]
  },
  {
   "cell_type": "code",
   "execution_count": 20,
   "id": "d7d1f9d8-c579-4c6b-b19d-fa37f9d1c19a",
   "metadata": {},
   "outputs": [
    {
     "data": {
      "text/plain": [
       "Dry Spell\n",
       "N     105\n",
       "0       5\n",
       "Y       5\n",
       "No      2\n",
       "n       1\n",
       "no      1\n",
       "y       1\n",
       "Name: count, dtype: int64"
      ]
     },
     "execution_count": 20,
     "metadata": {},
     "output_type": "execute_result"
    }
   ],
   "source": [
    "data[\"Dry Spell\"].value_counts()"
   ]
  },
  {
   "cell_type": "code",
   "execution_count": 21,
   "id": "74a01bc7-fcf6-4a75-a2dd-651d6041102d",
   "metadata": {},
   "outputs": [],
   "source": [
    "#converting '0' to 'N', No to 'N', y to 'Y', no to 'N' and n to 'N' using replace function\n",
    "\n",
    "data['Dry Spell'] = data['Dry Spell'].replace('No', 'N') \n",
    "data['Dry Spell'] = data['Dry Spell'].replace('no', 'N') \n",
    "data['Dry Spell'] = data['Dry Spell'].replace('n', 'N') \n",
    "data['Dry Spell'] = data['Dry Spell'].replace('0', 'N') \n",
    "data['Dry Spell'] = data['Dry Spell'].replace('y', 'Y') "
   ]
  },
  {
   "cell_type": "code",
   "execution_count": 22,
   "id": "deb25115-a50a-4f2f-946e-7eedfcea419f",
   "metadata": {},
   "outputs": [
    {
     "data": {
      "text/plain": [
       "Dry Spell\n",
       "N    114\n",
       "Y      6\n",
       "Name: count, dtype: int64"
      ]
     },
     "execution_count": 22,
     "metadata": {},
     "output_type": "execute_result"
    }
   ],
   "source": [
    "# Dry spell have only 'Y' and 'N' after modifying the data\n",
    "data[\"Dry Spell\"].value_counts()"
   ]
  },
  {
   "cell_type": "code",
   "execution_count": 23,
   "id": "272004e7-bcda-43b1-b9ba-fb0aef1534fe",
   "metadata": {},
   "outputs": [
    {
     "data": {
      "text/plain": [
       "Cold Wave\n",
       "N    97\n",
       "Y    20\n",
       "0     2\n",
       "n     1\n",
       "Name: count, dtype: int64"
      ]
     },
     "execution_count": 23,
     "metadata": {},
     "output_type": "execute_result"
    }
   ],
   "source": [
    "data[\"Cold Wave\"].value_counts()"
   ]
  },
  {
   "cell_type": "code",
   "execution_count": 24,
   "id": "623ccc11-7bc7-42a6-aa8d-fdd049d1c58f",
   "metadata": {},
   "outputs": [],
   "source": [
    "#converting '0' to 'N' and n to 'N' using replace function\n",
    "\n",
    "data['Cold Wave'] = data['Cold Wave'].replace('n', 'N')\n",
    "data['Cold Wave'] = data['Cold Wave'].replace('0', 'N')"
   ]
  },
  {
   "cell_type": "code",
   "execution_count": 25,
   "id": "d73071ba-8a02-4455-b9f1-54bea8aac81b",
   "metadata": {},
   "outputs": [
    {
     "data": {
      "text/plain": [
       "Cold Wave\n",
       "N    100\n",
       "Y     20\n",
       "Name: count, dtype: int64"
      ]
     },
     "execution_count": 25,
     "metadata": {},
     "output_type": "execute_result"
    }
   ],
   "source": [
    "# Cold Wave have only 'Y' and 'N' after modifying the data\n",
    "data[\"Cold Wave\"].value_counts()"
   ]
  },
  {
   "cell_type": "code",
   "execution_count": 26,
   "id": "dd6b00cd-85a2-4575-be11-496bfbdb992a",
   "metadata": {},
   "outputs": [
    {
     "data": {
      "text/plain": [
       "Wet Spell\n",
       "Y    60\n",
       "N    58\n",
       "n     2\n",
       "Name: count, dtype: int64"
      ]
     },
     "execution_count": 26,
     "metadata": {},
     "output_type": "execute_result"
    }
   ],
   "source": [
    "data[\"Wet Spell\"].value_counts()"
   ]
  },
  {
   "cell_type": "code",
   "execution_count": 27,
   "id": "6f296c73-bb2a-435c-8a12-b6b915e49b2c",
   "metadata": {},
   "outputs": [],
   "source": [
    "#converting n to 'N' using replace function\n",
    "\n",
    "data['Wet Spell'] = data['Wet Spell'].replace('n', 'N')"
   ]
  },
  {
   "cell_type": "code",
   "execution_count": 28,
   "id": "c03e44ef-9ec1-4564-a4cf-b3b97757472c",
   "metadata": {},
   "outputs": [
    {
     "data": {
      "text/plain": [
       "Wet Spell\n",
       "N    60\n",
       "Y    60\n",
       "Name: count, dtype: int64"
      ]
     },
     "execution_count": 28,
     "metadata": {},
     "output_type": "execute_result"
    }
   ],
   "source": [
    "# Wet Spell have only 'Y' and 'N' after modifying the data\n",
    "data[\"Wet Spell\"].value_counts()"
   ]
  },
  {
   "cell_type": "markdown",
   "id": "fa155bb4-3992-419d-b685-8b835ce8d860",
   "metadata": {},
   "source": [
    "### Now verifying data3 column for any missing values, duplicates and out of range values"
   ]
  },
  {
   "cell_type": "code",
   "execution_count": 29,
   "id": "67a0f4b4-bac6-4dd1-9317-115d8a634c3d",
   "metadata": {},
   "outputs": [
    {
     "data": {
      "text/html": [
       "<div>\n",
       "<style scoped>\n",
       "    .dataframe tbody tr th:only-of-type {\n",
       "        vertical-align: middle;\n",
       "    }\n",
       "\n",
       "    .dataframe tbody tr th {\n",
       "        vertical-align: top;\n",
       "    }\n",
       "\n",
       "    .dataframe thead th {\n",
       "        text-align: right;\n",
       "    }\n",
       "</style>\n",
       "<table border=\"1\" class=\"dataframe\">\n",
       "  <thead>\n",
       "    <tr style=\"text-align: right;\">\n",
       "      <th></th>\n",
       "      <th>Year</th>\n",
       "      <th>Location</th>\n",
       "      <th>Irrigation</th>\n",
       "      <th>Crop Type</th>\n",
       "      <th>Crop Damage</th>\n",
       "      <th>Yield</th>\n",
       "      <th>Observer</th>\n",
       "    </tr>\n",
       "  </thead>\n",
       "  <tbody>\n",
       "    <tr>\n",
       "      <th>0</th>\n",
       "      <td>1980.0</td>\n",
       "      <td>Andersonport</td>\n",
       "      <td>Y</td>\n",
       "      <td>Maize</td>\n",
       "      <td>1.0</td>\n",
       "      <td>1311.32</td>\n",
       "      <td>Marissa Peterson</td>\n",
       "    </tr>\n",
       "    <tr>\n",
       "      <th>1</th>\n",
       "      <td>1980.0</td>\n",
       "      <td>Williamhaven</td>\n",
       "      <td>Y</td>\n",
       "      <td>Wheat</td>\n",
       "      <td>1.0</td>\n",
       "      <td>1025.88</td>\n",
       "      <td>Frank Carpenter</td>\n",
       "    </tr>\n",
       "    <tr>\n",
       "      <th>2</th>\n",
       "      <td>1980.0</td>\n",
       "      <td>Josephfurt</td>\n",
       "      <td>N</td>\n",
       "      <td>Maize</td>\n",
       "      <td>0.0</td>\n",
       "      <td>1194.53</td>\n",
       "      <td>Kerry Martinez</td>\n",
       "    </tr>\n",
       "    <tr>\n",
       "      <th>3</th>\n",
       "      <td>1981.0</td>\n",
       "      <td>Andersonport</td>\n",
       "      <td>Y</td>\n",
       "      <td>Oats</td>\n",
       "      <td>1.0</td>\n",
       "      <td>1608.54</td>\n",
       "      <td>Marissa Peterson</td>\n",
       "    </tr>\n",
       "    <tr>\n",
       "      <th>4</th>\n",
       "      <td>1981.0</td>\n",
       "      <td>Williamhaven</td>\n",
       "      <td>Y</td>\n",
       "      <td>Wheat</td>\n",
       "      <td>0.0</td>\n",
       "      <td>1035.73</td>\n",
       "      <td>Eduardo Brady</td>\n",
       "    </tr>\n",
       "  </tbody>\n",
       "</table>\n",
       "</div>"
      ],
      "text/plain": [
       "     Year      Location Irrigation Crop Type  Crop Damage    Yield  \\\n",
       "0  1980.0  Andersonport          Y     Maize          1.0  1311.32   \n",
       "1  1980.0  Williamhaven          Y     Wheat          1.0  1025.88   \n",
       "2  1980.0    Josephfurt          N     Maize          0.0  1194.53   \n",
       "3  1981.0  Andersonport          Y      Oats          1.0  1608.54   \n",
       "4  1981.0  Williamhaven          Y     Wheat          0.0  1035.73   \n",
       "\n",
       "           Observer  \n",
       "0  Marissa Peterson  \n",
       "1   Frank Carpenter  \n",
       "2    Kerry Martinez  \n",
       "3  Marissa Peterson  \n",
       "4     Eduardo Brady  "
      ]
     },
     "execution_count": 29,
     "metadata": {},
     "output_type": "execute_result"
    }
   ],
   "source": [
    "data3.head()"
   ]
  },
  {
   "cell_type": "code",
   "execution_count": 30,
   "id": "5d332e22-863b-45ed-bab9-8f193c8d138a",
   "metadata": {},
   "outputs": [
    {
     "name": "stdout",
     "output_type": "stream",
     "text": [
      "<class 'pandas.core.frame.DataFrame'>\n",
      "RangeIndex: 125 entries, 0 to 124\n",
      "Data columns (total 7 columns):\n",
      " #   Column       Non-Null Count  Dtype  \n",
      "---  ------       --------------  -----  \n",
      " 0   Year         124 non-null    float64\n",
      " 1   Location     124 non-null    object \n",
      " 2   Irrigation   124 non-null    object \n",
      " 3   Crop Type    124 non-null    object \n",
      " 4   Crop Damage  124 non-null    float64\n",
      " 5   Yield        124 non-null    float64\n",
      " 6   Observer     124 non-null    object \n",
      "dtypes: float64(3), object(4)\n",
      "memory usage: 7.0+ KB\n"
     ]
    }
   ],
   "source": [
    "data3.info()"
   ]
  },
  {
   "cell_type": "code",
   "execution_count": 31,
   "id": "79c3098c-d2a7-4e1f-9dcd-8ef904a5482c",
   "metadata": {},
   "outputs": [],
   "source": [
    "# Finding missing values in Year column and filling it with 0\n",
    "data3['Year'] = data3['Year'].fillna(0)"
   ]
  },
  {
   "cell_type": "code",
   "execution_count": 32,
   "id": "62885455-d9fc-47fd-83f1-4d261b3387e9",
   "metadata": {},
   "outputs": [],
   "source": [
    "# converting year column in data3 to integer from float datatype\n",
    "\n",
    "data3['Year'] = data3['Year'].astype(int)"
   ]
  },
  {
   "cell_type": "code",
   "execution_count": 33,
   "id": "51c3ed4e-b0f8-49a4-9dd3-ae424462cf02",
   "metadata": {},
   "outputs": [
    {
     "data": {
      "text/plain": [
       "Year\n",
       "1991    4\n",
       "1996    4\n",
       "1986    4\n",
       "1988    4\n",
       "1980    3\n",
       "2004    3\n",
       "2005    3\n",
       "2006    3\n",
       "2007    3\n",
       "2008    3\n",
       "2009    3\n",
       "2010    3\n",
       "2011    3\n",
       "2002    3\n",
       "2012    3\n",
       "2013    3\n",
       "2014    3\n",
       "2015    3\n",
       "2016    3\n",
       "2017    3\n",
       "2018    3\n",
       "2003    3\n",
       "1999    3\n",
       "2001    3\n",
       "2000    3\n",
       "1982    3\n",
       "1983    3\n",
       "1984    3\n",
       "1985    3\n",
       "1987    3\n",
       "1989    3\n",
       "1990    3\n",
       "1992    3\n",
       "1993    3\n",
       "1994    3\n",
       "1995    3\n",
       "1997    3\n",
       "1998    3\n",
       "1981    3\n",
       "2019    3\n",
       "0       1\n",
       "Name: count, dtype: int64"
      ]
     },
     "execution_count": 33,
     "metadata": {},
     "output_type": "execute_result"
    }
   ],
   "source": [
    "data3[\"Year\"].value_counts()"
   ]
  },
  {
   "cell_type": "code",
   "execution_count": 34,
   "id": "91036717-bffd-4913-b09c-9e257afb3826",
   "metadata": {},
   "outputs": [],
   "source": [
    "# Removing the row that is having missing value in year column\n",
    "data3 = data3[data3['Year'] != 0]"
   ]
  },
  {
   "cell_type": "code",
   "execution_count": 35,
   "id": "12e5830d-b704-4673-b15f-723209ab15cc",
   "metadata": {},
   "outputs": [],
   "source": [
    "# Removing dupicate values by taking unique combinations of year and location and there are 4 duplciates\n",
    "data3 = data3.drop_duplicates(subset=['Year', 'Location'])"
   ]
  },
  {
   "cell_type": "code",
   "execution_count": 36,
   "id": "d4f55c11-b917-4e9f-9931-0b310fb1da17",
   "metadata": {},
   "outputs": [
    {
     "name": "stdout",
     "output_type": "stream",
     "text": [
      "<class 'pandas.core.frame.DataFrame'>\n",
      "Index: 120 entries, 0 to 124\n",
      "Data columns (total 7 columns):\n",
      " #   Column       Non-Null Count  Dtype  \n",
      "---  ------       --------------  -----  \n",
      " 0   Year         120 non-null    int32  \n",
      " 1   Location     120 non-null    object \n",
      " 2   Irrigation   120 non-null    object \n",
      " 3   Crop Type    120 non-null    object \n",
      " 4   Crop Damage  119 non-null    float64\n",
      " 5   Yield        120 non-null    float64\n",
      " 6   Observer     120 non-null    object \n",
      "dtypes: float64(2), int32(1), object(4)\n",
      "memory usage: 7.0+ KB\n"
     ]
    }
   ],
   "source": [
    "data3.info()"
   ]
  },
  {
   "cell_type": "code",
   "execution_count": 37,
   "id": "353a5f63-18e8-42d2-8ef3-82ddc77c3675",
   "metadata": {},
   "outputs": [
    {
     "data": {
      "text/plain": [
       "Location\n",
       "Andersonport    40\n",
       "Williamhaven    40\n",
       "Josephfurt      40\n",
       "Name: count, dtype: int64"
      ]
     },
     "execution_count": 37,
     "metadata": {},
     "output_type": "execute_result"
    }
   ],
   "source": [
    "data[\"Location\"].value_counts()"
   ]
  },
  {
   "cell_type": "code",
   "execution_count": 38,
   "id": "fa68d047-f180-4c22-b487-4de1ee4ef951",
   "metadata": {},
   "outputs": [
    {
     "data": {
      "text/plain": [
       "Irrigation\n",
       "Y      78\n",
       "N      40\n",
       "Yes     1\n",
       "1       1\n",
       "Name: count, dtype: int64"
      ]
     },
     "execution_count": 38,
     "metadata": {},
     "output_type": "execute_result"
    }
   ],
   "source": [
    "data3[\"Irrigation\"].value_counts()"
   ]
  },
  {
   "cell_type": "code",
   "execution_count": 39,
   "id": "b449052b-bf71-40fe-930b-ae7a8500bd23",
   "metadata": {},
   "outputs": [],
   "source": [
    "#converting '1' to 'Y' and yes to 'Y' using replace function\n",
    "\n",
    "data3['Irrigation'] = data3['Irrigation'].replace('Yes', 'Y')\n",
    "data3['Irrigation'] = data3['Irrigation'].replace('1', 'Y')"
   ]
  },
  {
   "cell_type": "code",
   "execution_count": 40,
   "id": "c8c5a864-c6ef-4933-8709-c1f27acdbe56",
   "metadata": {},
   "outputs": [
    {
     "data": {
      "text/plain": [
       "Irrigation\n",
       "Y    80\n",
       "N    40\n",
       "Name: count, dtype: int64"
      ]
     },
     "execution_count": 40,
     "metadata": {},
     "output_type": "execute_result"
    }
   ],
   "source": [
    "# Irrigation column have only 'Y' and 'N' after modifying the data\n",
    "\n",
    "data3[\"Irrigation\"].value_counts()"
   ]
  },
  {
   "cell_type": "code",
   "execution_count": 41,
   "id": "1c7d67fa-a49e-41bf-9fdd-1f9c99feffa6",
   "metadata": {},
   "outputs": [
    {
     "data": {
      "text/plain": [
       "Crop Type\n",
       "Wheat    47\n",
       "Maize    37\n",
       "Oats     36\n",
       "Name: count, dtype: int64"
      ]
     },
     "execution_count": 41,
     "metadata": {},
     "output_type": "execute_result"
    }
   ],
   "source": [
    "data3[\"Crop Type\"].value_counts()"
   ]
  },
  {
   "cell_type": "code",
   "execution_count": 42,
   "id": "3bd7a6a9-65e3-4d7d-a91f-c91a24c7a3ab",
   "metadata": {},
   "outputs": [],
   "source": [
    "# There is one missing value in crop damage column and filling it with 0\n",
    "data3['Crop Damage'] = data3['Crop Damage'].fillna(0)"
   ]
  },
  {
   "cell_type": "code",
   "execution_count": 43,
   "id": "854c8e1c-27e6-4c52-8057-fef13602068e",
   "metadata": {},
   "outputs": [
    {
     "data": {
      "text/plain": [
       "Crop Damage\n",
       "0.0    87\n",
       "1.0    33\n",
       "Name: count, dtype: int64"
      ]
     },
     "execution_count": 43,
     "metadata": {},
     "output_type": "execute_result"
    }
   ],
   "source": [
    "data3[\"Crop Damage\"].value_counts()"
   ]
  },
  {
   "cell_type": "code",
   "execution_count": 44,
   "id": "c0bd8e8c-f601-48de-8577-1822e7c08875",
   "metadata": {},
   "outputs": [],
   "source": [
    "#converting '0.0' to 'N' and '1.0' to 'Y' using replace function\n",
    "\n",
    "data3['Crop Damage'] = data3['Crop Damage'].replace(0.0, 'N')\n",
    "data3['Crop Damage'] = data3['Crop Damage'].replace(1.0, 'Y')"
   ]
  },
  {
   "cell_type": "code",
   "execution_count": 45,
   "id": "94e7eed4-ea2c-4b63-9a97-e09d73a01c0d",
   "metadata": {},
   "outputs": [
    {
     "data": {
      "text/plain": [
       "Crop Damage\n",
       "N    87\n",
       "Y    33\n",
       "Name: count, dtype: int64"
      ]
     },
     "execution_count": 45,
     "metadata": {},
     "output_type": "execute_result"
    }
   ],
   "source": [
    "# Irrigation column have only 'Y' and 'N' after modifying the data\n",
    "\n",
    "data3[\"Crop Damage\"].value_counts()"
   ]
  },
  {
   "cell_type": "code",
   "execution_count": 46,
   "id": "72a47a72-3b0a-40a4-b55e-cf0feeef0f59",
   "metadata": {},
   "outputs": [
    {
     "name": "stdout",
     "output_type": "stream",
     "text": [
      "<class 'pandas.core.frame.DataFrame'>\n",
      "Index: 120 entries, 0 to 124\n",
      "Data columns (total 7 columns):\n",
      " #   Column       Non-Null Count  Dtype  \n",
      "---  ------       --------------  -----  \n",
      " 0   Year         120 non-null    int32  \n",
      " 1   Location     120 non-null    object \n",
      " 2   Irrigation   120 non-null    object \n",
      " 3   Crop Type    120 non-null    object \n",
      " 4   Crop Damage  120 non-null    object \n",
      " 5   Yield        120 non-null    float64\n",
      " 6   Observer     120 non-null    object \n",
      "dtypes: float64(1), int32(1), object(5)\n",
      "memory usage: 7.0+ KB\n"
     ]
    }
   ],
   "source": [
    "data3.info()"
   ]
  },
  {
   "cell_type": "markdown",
   "id": "5ad5f4f9-04e6-40a9-acd7-deb2dbebc0f6",
   "metadata": {},
   "source": [
    "### Now there are no missing values, duplicate values and out of range values in Data3, it has 120 rows and 7 columns"
   ]
  },
  {
   "cell_type": "markdown",
   "id": "5ad19aa2-2d19-44bf-a7b0-06b0a77b9722",
   "metadata": {},
   "source": [
    "### Merging data3 and data, naming it as clean_data"
   ]
  },
  {
   "cell_type": "code",
   "execution_count": 47,
   "id": "9765e851-df8e-4754-ae3e-4baf02bf2f13",
   "metadata": {},
   "outputs": [],
   "source": [
    "clean_data = pd.merge(data, data3, on=['Year', 'Location'])"
   ]
  },
  {
   "cell_type": "markdown",
   "id": "82e4c6d3-a332-4ea6-83d8-f80b474a5812",
   "metadata": {},
   "source": [
    "### clean_data file has 120 rows and 13 columns of data with no null values and out of range values"
   ]
  },
  {
   "cell_type": "code",
   "execution_count": 49,
   "id": "48e7fccb-5e7e-4241-a2ae-5fbf2a53851f",
   "metadata": {},
   "outputs": [
    {
     "name": "stdout",
     "output_type": "stream",
     "text": [
      "<class 'pandas.core.frame.DataFrame'>\n",
      "RangeIndex: 120 entries, 0 to 119\n",
      "Data columns (total 13 columns):\n",
      " #   Column           Non-Null Count  Dtype  \n",
      "---  ------           --------------  -----  \n",
      " 0   Year             120 non-null    int64  \n",
      " 1   Location         120 non-null    object \n",
      " 2   Avg Min Temp *C  120 non-null    float64\n",
      " 3   Yr Rain mm       120 non-null    float64\n",
      " 4   Heat Wave        120 non-null    object \n",
      " 5   Dry Spell        120 non-null    object \n",
      " 6   Cold Wave        120 non-null    object \n",
      " 7   Wet Spell        120 non-null    object \n",
      " 8   Irrigation       120 non-null    object \n",
      " 9   Crop Type        120 non-null    object \n",
      " 10  Crop Damage      120 non-null    object \n",
      " 11  Yield            120 non-null    float64\n",
      " 12  Observer         120 non-null    object \n",
      "dtypes: float64(3), int64(1), object(9)\n",
      "memory usage: 12.3+ KB\n"
     ]
    }
   ],
   "source": [
    "clean_data.info()"
   ]
  },
  {
   "cell_type": "code",
   "execution_count": 48,
   "id": "3bd7841c-7aad-4fb5-9174-bc88b22cbcd9",
   "metadata": {},
   "outputs": [
    {
     "data": {
      "text/plain": [
       "Year               0\n",
       "Location           0\n",
       "Avg Min Temp *C    0\n",
       "Yr Rain mm         0\n",
       "Heat Wave          0\n",
       "Dry Spell          0\n",
       "Cold Wave          0\n",
       "Wet Spell          0\n",
       "Irrigation         0\n",
       "Crop Type          0\n",
       "Crop Damage        0\n",
       "Yield              0\n",
       "Observer           0\n",
       "dtype: int64"
      ]
     },
     "execution_count": 48,
     "metadata": {},
     "output_type": "execute_result"
    }
   ],
   "source": [
    "clean_data.isna().sum()"
   ]
  },
  {
   "cell_type": "code",
   "execution_count": 50,
   "id": "fe32caba-ffab-40f6-b253-8c4865014d3a",
   "metadata": {},
   "outputs": [],
   "source": [
    "# Saving the dataset to the clean_data\n",
    "clean_data.to_csv('clean_data.csv', index=False)"
   ]
  },
  {
   "cell_type": "code",
   "execution_count": 51,
   "id": "3ee63e13-741a-411c-ae5d-af84912412ff",
   "metadata": {},
   "outputs": [
    {
     "name": "stderr",
     "output_type": "stream",
     "text": [
      "[NbConvertApp] Converting notebook task_1.ipynb to html\n",
      "[NbConvertApp] Writing 651723 bytes to task_1.html\n"
     ]
    }
   ],
   "source": [
    "!jupyter nbconvert --to html task_1.ipynb"
   ]
  },
  {
   "cell_type": "code",
   "execution_count": null,
   "id": "9ecf1285-27f0-497e-92f8-7d01ba5219bd",
   "metadata": {},
   "outputs": [],
   "source": []
  }
 ],
 "metadata": {
  "kernelspec": {
   "display_name": "Python 3 (ipykernel)",
   "language": "python",
   "name": "python3"
  },
  "language_info": {
   "codemirror_mode": {
    "name": "ipython",
    "version": 3
   },
   "file_extension": ".py",
   "mimetype": "text/x-python",
   "name": "python",
   "nbconvert_exporter": "python",
   "pygments_lexer": "ipython3",
   "version": "3.11.4"
  }
 },
 "nbformat": 4,
 "nbformat_minor": 5
}
