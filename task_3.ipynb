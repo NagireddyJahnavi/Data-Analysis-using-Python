{
 "cells": [
  {
   "cell_type": "markdown",
   "id": "617277a2-35ef-4b76-a1f5-c408e457ffe8",
   "metadata": {},
   "source": [
    "## Task 3 – Test & Train Data Preparation"
   ]
  },
  {
   "cell_type": "code",
   "execution_count": 1,
   "id": "d9cb4376-c79a-4092-aefc-40b84f6ba24a",
   "metadata": {},
   "outputs": [],
   "source": [
    "# importing pandas library\n",
    "import pandas as pd\n",
    "import numpy as np"
   ]
  },
  {
   "cell_type": "code",
   "execution_count": 2,
   "id": "e5ad4897-582b-463c-85d6-532f2016787e",
   "metadata": {},
   "outputs": [],
   "source": [
    "# Loading clean data file to pandas dataframes \n",
    "data=pd.read_csv(\"clean_data.csv\")"
   ]
  },
  {
   "cell_type": "code",
   "execution_count": 3,
   "id": "1bdd3e87-c964-41a7-88c9-c59ab9168448",
   "metadata": {},
   "outputs": [],
   "source": [
    "data['Crop Type'] = data['Crop Type'].astype('category')\n",
    "data['Location'] = data['Location'].astype('category')"
   ]
  },
  {
   "cell_type": "code",
   "execution_count": 4,
   "id": "726dad2c-17a2-48aa-bc78-aaf603279b8b",
   "metadata": {},
   "outputs": [],
   "source": [
    "# converting crop type data to codes\n",
    "data['Crop Type'] = data['Crop Type'].cat.codes"
   ]
  },
  {
   "cell_type": "code",
   "execution_count": 5,
   "id": "f6d91c78-b50f-4f01-8dbb-11202c8799b3",
   "metadata": {},
   "outputs": [
    {
     "data": {
      "text/plain": [
       "Crop Type\n",
       "2    47\n",
       "0    37\n",
       "1    36\n",
       "Name: count, dtype: int64"
      ]
     },
     "execution_count": 5,
     "metadata": {},
     "output_type": "execute_result"
    }
   ],
   "source": [
    "data[\"Crop Type\"].value_counts()"
   ]
  },
  {
   "cell_type": "code",
   "execution_count": 6,
   "id": "7889a8df-1481-4aa8-b609-7e7e26e3ae19",
   "metadata": {},
   "outputs": [],
   "source": [
    "data['Location'] = data['Location'].cat.codes"
   ]
  },
  {
   "cell_type": "code",
   "execution_count": 7,
   "id": "5d7d9ace-b6d7-42ed-a780-4726f887e22c",
   "metadata": {},
   "outputs": [
    {
     "data": {
      "text/plain": [
       "Location\n",
       "0    40\n",
       "2    40\n",
       "1    40\n",
       "Name: count, dtype: int64"
      ]
     },
     "execution_count": 7,
     "metadata": {},
     "output_type": "execute_result"
    }
   ],
   "source": [
    "data[\"Location\"].value_counts()"
   ]
  },
  {
   "cell_type": "code",
   "execution_count": 8,
   "id": "7535ba3e-a3ed-4120-8a78-448a3bf20134",
   "metadata": {},
   "outputs": [],
   "source": [
    "# dropping observer column as it is not required for predicting targets, yield and crop damage\n",
    "data = data.drop(\"Observer\", axis=1)"
   ]
  },
  {
   "cell_type": "code",
   "execution_count": 9,
   "id": "708a48eb-d8e2-4278-ab50-41cbe04f2da5",
   "metadata": {},
   "outputs": [],
   "source": [
    "# Mapping Crop Damage column values from 'Y' and 'N' to '0' and '1'\n",
    "data[\"Crop Damage\"] = data[\"Crop Damage\"].map({\"N\": 0, \"Y\": 1})\n",
    "\n",
    "data[\"Heat Wave\"] = data[\"Heat Wave\"].map({\"N\": 0, \"Y\": 1})\n",
    "data[\"Dry Spell\"] = data[\"Dry Spell\"].map({\"N\": 0, \"Y\": 1})\n",
    "data[\"Cold Wave\"] = data[\"Cold Wave\"].map({\"N\": 0, \"Y\": 1})\n",
    "data[\"Wet Spell\"] = data[\"Wet Spell\"].map({\"N\": 0, \"Y\": 1})\n",
    "data[\"Irrigation\"] = data[\"Irrigation\"].map({\"N\": 0, \"Y\": 1})"
   ]
  },
  {
   "cell_type": "code",
   "execution_count": 24,
   "id": "6026eb94-0d9e-484e-9f67-ffb4dab961cd",
   "metadata": {},
   "outputs": [
    {
     "data": {
      "text/html": [
       "<div>\n",
       "<style scoped>\n",
       "    .dataframe tbody tr th:only-of-type {\n",
       "        vertical-align: middle;\n",
       "    }\n",
       "\n",
       "    .dataframe tbody tr th {\n",
       "        vertical-align: top;\n",
       "    }\n",
       "\n",
       "    .dataframe thead th {\n",
       "        text-align: right;\n",
       "    }\n",
       "</style>\n",
       "<table border=\"1\" class=\"dataframe\">\n",
       "  <thead>\n",
       "    <tr style=\"text-align: right;\">\n",
       "      <th></th>\n",
       "      <th>Year</th>\n",
       "      <th>Location</th>\n",
       "      <th>Avg Min Temp *C</th>\n",
       "      <th>Yr Rain mm</th>\n",
       "      <th>Heat Wave</th>\n",
       "      <th>Dry Spell</th>\n",
       "      <th>Cold Wave</th>\n",
       "      <th>Wet Spell</th>\n",
       "      <th>Irrigation</th>\n",
       "      <th>Crop Type</th>\n",
       "      <th>Crop Damage</th>\n",
       "      <th>Yield</th>\n",
       "    </tr>\n",
       "  </thead>\n",
       "  <tbody>\n",
       "    <tr>\n",
       "      <th>0</th>\n",
       "      <td>1980</td>\n",
       "      <td>0</td>\n",
       "      <td>20.1</td>\n",
       "      <td>689.05</td>\n",
       "      <td>0</td>\n",
       "      <td>0</td>\n",
       "      <td>1</td>\n",
       "      <td>0</td>\n",
       "      <td>1</td>\n",
       "      <td>0</td>\n",
       "      <td>1</td>\n",
       "      <td>1311.32</td>\n",
       "    </tr>\n",
       "    <tr>\n",
       "      <th>1</th>\n",
       "      <td>1980</td>\n",
       "      <td>2</td>\n",
       "      <td>23.0</td>\n",
       "      <td>616.88</td>\n",
       "      <td>0</td>\n",
       "      <td>0</td>\n",
       "      <td>1</td>\n",
       "      <td>0</td>\n",
       "      <td>1</td>\n",
       "      <td>2</td>\n",
       "      <td>1</td>\n",
       "      <td>1025.88</td>\n",
       "    </tr>\n",
       "    <tr>\n",
       "      <th>2</th>\n",
       "      <td>1980</td>\n",
       "      <td>1</td>\n",
       "      <td>21.4</td>\n",
       "      <td>1164.65</td>\n",
       "      <td>0</td>\n",
       "      <td>0</td>\n",
       "      <td>0</td>\n",
       "      <td>0</td>\n",
       "      <td>0</td>\n",
       "      <td>0</td>\n",
       "      <td>0</td>\n",
       "      <td>1194.53</td>\n",
       "    </tr>\n",
       "    <tr>\n",
       "      <th>3</th>\n",
       "      <td>1981</td>\n",
       "      <td>0</td>\n",
       "      <td>20.0</td>\n",
       "      <td>813.75</td>\n",
       "      <td>0</td>\n",
       "      <td>0</td>\n",
       "      <td>1</td>\n",
       "      <td>0</td>\n",
       "      <td>1</td>\n",
       "      <td>1</td>\n",
       "      <td>1</td>\n",
       "      <td>1608.54</td>\n",
       "    </tr>\n",
       "    <tr>\n",
       "      <th>4</th>\n",
       "      <td>1981</td>\n",
       "      <td>2</td>\n",
       "      <td>23.4</td>\n",
       "      <td>566.16</td>\n",
       "      <td>0</td>\n",
       "      <td>0</td>\n",
       "      <td>0</td>\n",
       "      <td>0</td>\n",
       "      <td>1</td>\n",
       "      <td>2</td>\n",
       "      <td>0</td>\n",
       "      <td>1035.73</td>\n",
       "    </tr>\n",
       "    <tr>\n",
       "      <th>...</th>\n",
       "      <td>...</td>\n",
       "      <td>...</td>\n",
       "      <td>...</td>\n",
       "      <td>...</td>\n",
       "      <td>...</td>\n",
       "      <td>...</td>\n",
       "      <td>...</td>\n",
       "      <td>...</td>\n",
       "      <td>...</td>\n",
       "      <td>...</td>\n",
       "      <td>...</td>\n",
       "      <td>...</td>\n",
       "    </tr>\n",
       "    <tr>\n",
       "      <th>115</th>\n",
       "      <td>2018</td>\n",
       "      <td>0</td>\n",
       "      <td>22.3</td>\n",
       "      <td>1580.15</td>\n",
       "      <td>1</td>\n",
       "      <td>0</td>\n",
       "      <td>0</td>\n",
       "      <td>1</td>\n",
       "      <td>1</td>\n",
       "      <td>1</td>\n",
       "      <td>0</td>\n",
       "      <td>1703.12</td>\n",
       "    </tr>\n",
       "    <tr>\n",
       "      <th>116</th>\n",
       "      <td>2018</td>\n",
       "      <td>1</td>\n",
       "      <td>23.0</td>\n",
       "      <td>2030.51</td>\n",
       "      <td>0</td>\n",
       "      <td>0</td>\n",
       "      <td>0</td>\n",
       "      <td>1</td>\n",
       "      <td>0</td>\n",
       "      <td>0</td>\n",
       "      <td>1</td>\n",
       "      <td>1173.82</td>\n",
       "    </tr>\n",
       "    <tr>\n",
       "      <th>117</th>\n",
       "      <td>2019</td>\n",
       "      <td>1</td>\n",
       "      <td>23.3</td>\n",
       "      <td>1909.04</td>\n",
       "      <td>0</td>\n",
       "      <td>0</td>\n",
       "      <td>0</td>\n",
       "      <td>1</td>\n",
       "      <td>0</td>\n",
       "      <td>1</td>\n",
       "      <td>1</td>\n",
       "      <td>1467.49</td>\n",
       "    </tr>\n",
       "    <tr>\n",
       "      <th>118</th>\n",
       "      <td>2019</td>\n",
       "      <td>0</td>\n",
       "      <td>22.3</td>\n",
       "      <td>1834.86</td>\n",
       "      <td>1</td>\n",
       "      <td>0</td>\n",
       "      <td>0</td>\n",
       "      <td>1</td>\n",
       "      <td>1</td>\n",
       "      <td>1</td>\n",
       "      <td>0</td>\n",
       "      <td>1701.68</td>\n",
       "    </tr>\n",
       "    <tr>\n",
       "      <th>119</th>\n",
       "      <td>2019</td>\n",
       "      <td>2</td>\n",
       "      <td>25.0</td>\n",
       "      <td>1287.26</td>\n",
       "      <td>1</td>\n",
       "      <td>0</td>\n",
       "      <td>0</td>\n",
       "      <td>1</td>\n",
       "      <td>1</td>\n",
       "      <td>0</td>\n",
       "      <td>0</td>\n",
       "      <td>1473.33</td>\n",
       "    </tr>\n",
       "  </tbody>\n",
       "</table>\n",
       "<p>120 rows × 12 columns</p>\n",
       "</div>"
      ],
      "text/plain": [
       "     Year  Location  Avg Min Temp *C  Yr Rain mm  Heat Wave  Dry Spell  \\\n",
       "0    1980         0             20.1      689.05          0          0   \n",
       "1    1980         2             23.0      616.88          0          0   \n",
       "2    1980         1             21.4     1164.65          0          0   \n",
       "3    1981         0             20.0      813.75          0          0   \n",
       "4    1981         2             23.4      566.16          0          0   \n",
       "..    ...       ...              ...         ...        ...        ...   \n",
       "115  2018         0             22.3     1580.15          1          0   \n",
       "116  2018         1             23.0     2030.51          0          0   \n",
       "117  2019         1             23.3     1909.04          0          0   \n",
       "118  2019         0             22.3     1834.86          1          0   \n",
       "119  2019         2             25.0     1287.26          1          0   \n",
       "\n",
       "     Cold Wave  Wet Spell  Irrigation  Crop Type  Crop Damage    Yield  \n",
       "0            1          0           1          0            1  1311.32  \n",
       "1            1          0           1          2            1  1025.88  \n",
       "2            0          0           0          0            0  1194.53  \n",
       "3            1          0           1          1            1  1608.54  \n",
       "4            0          0           1          2            0  1035.73  \n",
       "..         ...        ...         ...        ...          ...      ...  \n",
       "115          0          1           1          1            0  1703.12  \n",
       "116          0          1           0          0            1  1173.82  \n",
       "117          0          1           0          1            1  1467.49  \n",
       "118          0          1           1          1            0  1701.68  \n",
       "119          0          1           1          0            0  1473.33  \n",
       "\n",
       "[120 rows x 12 columns]"
      ]
     },
     "execution_count": 24,
     "metadata": {},
     "output_type": "execute_result"
    }
   ],
   "source": [
    "data"
   ]
  },
  {
   "cell_type": "code",
   "execution_count": 10,
   "id": "2fbd4e27-9a5d-4ef8-bd54-4e0f2415dedc",
   "metadata": {},
   "outputs": [],
   "source": [
    "from sklearn.model_selection import train_test_split"
   ]
  },
  {
   "cell_type": "code",
   "execution_count": 11,
   "id": "9f61e8a3-3504-441b-8bd7-45fb77445b38",
   "metadata": {},
   "outputs": [],
   "source": [
    "# Dataset a, Yield as the target\n",
    "data_a_X = data.drop(['Yield'], axis=1)\n",
    "data_a_y = data['Yield']\n",
    "\n",
    "# Dataset b, Crop Damage as the target\n",
    "data_b_X = data.drop(['Crop Damage'], axis=1)\n",
    "data_b_y = data['Crop Damage']"
   ]
  },
  {
   "cell_type": "code",
   "execution_count": 12,
   "id": "d2afec85-9792-47da-9962-02ff4884b5d5",
   "metadata": {},
   "outputs": [],
   "source": [
    "# Split Dataset a into training and testing sets\n",
    "a_X_train, a_X_test, a_y_train, a_y_test = train_test_split(data_a_X, data_a_y, test_size=0.2, random_state=42)\n",
    "\n",
    "# Split Dataset b into training and testing sets\n",
    "b_X_train, b_X_test, b_y_train, b_y_test = train_test_split(data_b_X, data_b_y, test_size=0.2, random_state=42)\n",
    "\n",
    "# Save the datasets to the specified filenames\n",
    "a_X_train.to_csv(\"a_X_train.csv\", index=False)\n",
    "a_y_train.to_csv(\"a_y_train.csv\", index=False)\n",
    "a_X_test.to_csv(\"a_X_test.csv\", index=False)\n",
    "a_y_test.to_csv(\"a_y_test.csv\", index=False)\n",
    "\n",
    "b_X_train.to_csv(\"b_X_train.csv\", index=False)\n",
    "b_y_train.to_csv(\"b_y_train.csv\", index=False)\n",
    "b_X_test.to_csv(\"b_X_test.csv\", index=False)\n",
    "b_y_test.to_csv(\"b_y_test.csv\", index=False)"
   ]
  },
  {
   "cell_type": "code",
   "execution_count": 15,
   "id": "e17e2cfd-077f-4916-b092-bc5052c2e2eb",
   "metadata": {},
   "outputs": [
    {
     "name": "stderr",
     "output_type": "stream",
     "text": [
      "[NbConvertApp] Converting notebook task_3.ipynb to html\n",
      "[NbConvertApp] Writing 599446 bytes to task_3.html\n"
     ]
    }
   ],
   "source": [
    "!jupyter nbconvert --to html task_3.ipynb"
   ]
  },
  {
   "cell_type": "code",
   "execution_count": null,
   "id": "f9c975c6-727e-4880-9a0b-502b061e8427",
   "metadata": {},
   "outputs": [],
   "source": []
  }
 ],
 "metadata": {
  "kernelspec": {
   "display_name": "Python 3 (ipykernel)",
   "language": "python",
   "name": "python3"
  },
  "language_info": {
   "codemirror_mode": {
    "name": "ipython",
    "version": 3
   },
   "file_extension": ".py",
   "mimetype": "text/x-python",
   "name": "python",
   "nbconvert_exporter": "python",
   "pygments_lexer": "ipython3",
   "version": "3.11.4"
  }
 },
 "nbformat": 4,
 "nbformat_minor": 5
}
